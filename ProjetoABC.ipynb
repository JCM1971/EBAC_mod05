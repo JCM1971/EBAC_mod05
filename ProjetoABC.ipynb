{
  "nbformat": 4,
  "nbformat_minor": 0,
  "metadata": {
    "colab": {
      "private_outputs": true,
      "provenance": [],
      "authorship_tag": "ABX9TyOSVZcXd+QnWScCNWS4Ps+n",
      "include_colab_link": true
    },
    "kernelspec": {
      "name": "python3",
      "display_name": "Python 3"
    },
    "language_info": {
      "name": "python"
    }
  },
  "cells": [
    {
      "cell_type": "markdown",
      "metadata": {
        "id": "view-in-github",
        "colab_type": "text"
      },
      "source": [
        "<a href=\"https://colab.research.google.com/github/JCM1971/EBAC_mod05/blob/main/ProjetoABC.ipynb\" target=\"_parent\"><img src=\"https://colab.research.google.com/assets/colab-badge.svg\" alt=\"Open In Colab\"/></a>"
      ]
    },
    {
      "cell_type": "markdown",
      "source": [
        "#Projeto ABC"
      ],
      "metadata": {
        "id": "b2nrh2NvWULb"
      }
    },
    {
      "cell_type": "markdown",
      "source": [
        "## Importando Módulos"
      ],
      "metadata": {
        "id": "TAqOuhsEWwAz"
      }
    },
    {
      "cell_type": "code",
      "source": [
        "import pandas as pd"
      ],
      "metadata": {
        "id": "coC_1BFOVDIc"
      },
      "execution_count": null,
      "outputs": []
    },
    {
      "cell_type": "code",
      "source": [
        "import numpy as np"
      ],
      "metadata": {
        "id": "sKDYZnM1VMep"
      },
      "execution_count": null,
      "outputs": []
    },
    {
      "cell_type": "code",
      "source": [
        "print('Hello World!!!')"
      ],
      "metadata": {
        "id": "RwNRcnitVz_j"
      },
      "execution_count": null,
      "outputs": []
    },
    {
      "cell_type": "markdown",
      "source": [
        "## Importar Dados"
      ],
      "metadata": {
        "id": "AFht9LPoXB37"
      }
    },
    {
      "cell_type": "code",
      "source": [
        "# Rotina de importação"
      ],
      "metadata": {
        "id": "zCyb5671XMzG"
      },
      "execution_count": null,
      "outputs": []
    },
    {
      "cell_type": "markdown",
      "source": [
        "### Tratar Dados"
      ],
      "metadata": {
        "id": "wAS_8c4TXtgL"
      }
    },
    {
      "cell_type": "code",
      "source": [],
      "metadata": {
        "id": "gqDfuqmCX3LJ"
      },
      "execution_count": null,
      "outputs": []
    }
  ]
}